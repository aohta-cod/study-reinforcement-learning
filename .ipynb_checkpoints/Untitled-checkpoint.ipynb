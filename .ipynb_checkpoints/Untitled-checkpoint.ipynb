{
 "cells": [
  {
   "cell_type": "markdown",
   "metadata": {},
   "source": [
    "## 2.2 迷路とエージェントを実装"
   ]
  },
  {
   "cell_type": "markdown",
   "metadata": {},
   "source": [
    "### import"
   ]
  },
  {
   "cell_type": "code",
   "execution_count": 2,
   "metadata": {},
   "outputs": [],
   "source": [
    "import numpy as np\n",
    "import matplotlib.pyplot as plt\n",
    "\n",
    "%matplotlib inline"
   ]
  },
  {
   "cell_type": "markdown",
   "metadata": {},
   "source": [
    "matplotlibで迷路を描画する"
   ]
  },
  {
   "cell_type": "code",
   "execution_count": 19,
   "metadata": {},
   "outputs": [
    {
     "data": {
      "image/png": "[encoded data removed]",
      "text/plain": [
       "<Figure size 360x360 with 1 Axes>"
      ]
     },
     "metadata": {},
     "output_type": "display_data"
    }
   ],
   "source": [
    "fig = plt.figure(figsize=(5,5))\n",
    "ax = plt.gca()\n",
    "\n",
    "plt.plot([1,1], [0,1], color='red', linewidth=2)\n",
    "plt.plot([1,2], [2,2], color='red', linewidth=2)\n",
    "plt.plot([2,2], [2,1], color='red', linewidth=2)\n",
    "plt.plot([2,3], [1,1], color='red', linewidth=2)\n",
    "\n",
    "plt.text(0.5, 2.5, 'S0', size=14, ha='center')\n",
    "plt.text(1.5, 2.5, 'S1', size=14, ha='center')\n",
    "plt.text(2.5, 2.5, 'S2', size=14, ha='center')\n",
    "plt.text(0.5, 1.5, 'S3', size=14, ha='center')\n",
    "plt.text(1.5, 1.5, 'S4', size=14, ha='center')\n",
    "plt.text(2.5, 1.5, 'S5', size=14, ha='center')\n",
    "plt.text(0.5, 0.5, 'S6', size=14, ha='center')\n",
    "plt.text(1.5, 0.5, 'S7', size=14, ha='center')\n",
    "plt.text(2.5, 0.5, 'S8', size=14, ha='center')\n",
    "plt.text(0.5, 2.3, 'START', ha='center')\n",
    "plt.text(2.5, 0.3, 'GOAL', ha='center')\n",
    "\n",
    "ax.set_xlim(0, 3)\n",
    "ax.set_ylim(0, 3)\n",
    "\n",
    "plt.tick_params(labelbottom=False,\n",
    "                labelleft=False,\n",
    "                labelright=False,\n",
    "                labeltop=False)\n",
    "\n",
    "plt.tick_params(bottom=False,\n",
    "                left=False,\n",
    "                right=False,\n",
    "                top=False)\n",
    "\n",
    "line, = ax.plot([0.5], [2.5], marker='o', color='g', markersize=60)"
   ]
  },
  {
   "cell_type": "markdown",
   "metadata": {},
   "source": [
    "初期の方策を決めるためのパラメータ$\\theta_0$を設定する。行は状態0~7を示し、列は移動方向で<上,下,左,右>のいずれかを表す。"
   ]
  },
  {
   "cell_type": "code",
   "execution_count": 20,
   "metadata": {},
   "outputs": [],
   "source": [
    "# [上,下,左,右] np.nanはいけない方向(壁)\n",
    "# s8はゴールなので、方策は無し\n",
    "\n",
    "theta_0 = np.array([[np.nan, 1, 1, np.nan], #s0\n",
    "                    [np.nan, 1, np.nan, 1], #s1\n",
    "                    [np.nan, np.nan, 1, 1], #s2\n",
    "                    [1, 1, 1, np.nan], #s3\n",
    "                    [np.nan, np.nan, 1, 1], #s4\n",
    "                    [1, np.nan, np.nan, np.nan], #s5\n",
    "                    [1, np.nan, np.nan, np.nan], #s6\n",
    "                    [1, 1, np.nan, np.nan], #s7\n",
    "                   ])"
   ]
  },
  {
   "cell_type": "markdown",
   "metadata": {},
   "source": [
    "パラメータ$\\theta_0$を変換して方策$\\pi_{\\theta}(s,a)$を求める。\n",
    "\n",
    "今回は単純な変換方法を採用する。つまり、進める方向に対して$\\theta$の値を割合にすることで確率にする。\n",
    "この変換を行うための関数を`simple_theta2pi`と命名する。"
   ]
  },
  {
   "cell_type": "code",
   "execution_count": 24,
   "metadata": {},
   "outputs": [],
   "source": [
    "# 方策パラメータthetaを行動方策piに変換\n",
    "\n",
    "def simple_theta2pi(theta):\n",
    "    [m, n] = theta.shape\n",
    "    pi = np.zeros((m,n))\n",
    "    \n",
    "    for i in range(0,m):\n",
    "        pi[i,:] = theta[i,:]/np.nansum(theta[i,:]) #各要素に対して割合を計算\n",
    "        \n",
    "    pi = np.nan_to_num(pi) #nanは0に変換\n",
    "    \n",
    "    return pi"
   ]
  },
  {
   "cell_type": "markdown",
   "metadata": {},
   "source": [
    "`simple_theta2pi`を実行し、$\\theta_0$から初期方策$\\pi_{\\theta_0}(s,a)$を求める"
   ]
  },
  {
   "cell_type": "code",
   "execution_count": 25,
   "metadata": {},
   "outputs": [],
   "source": [
    "pi_0 = simple_theta2pi(theta_0)"
   ]
  },
  {
   "cell_type": "code",
   "execution_count": 26,
   "metadata": {},
   "outputs": [
    {
     "data": {
      "text/plain": [
       "array([[0.        , 0.5       , 0.5       , 0.        ],\n",
       "       [0.        , 0.5       , 0.        , 0.5       ],\n",
       "       [0.        , 0.        , 0.5       , 0.5       ],\n",
       "       [0.33333333, 0.33333333, 0.33333333, 0.        ],\n",
       "       [0.        , 0.        , 0.5       , 0.5       ],\n",
       "       [1.        , 0.        , 0.        , 0.        ],\n",
       "       [1.        , 0.        , 0.        , 0.        ],\n",
       "       [0.5       , 0.5       , 0.        , 0.        ]])"
      ]
     },
     "execution_count": 26,
     "metadata": {},
     "output_type": "execute_result"
    }
   ],
   "source": [
    "pi_0"
   ]
  },
  {
   "cell_type": "code",
   "execution_count": null,
   "metadata": {},
   "outputs": [],
   "source": [
    "def get_next_s(pi, s):\n",
    "    direction = ['up', 'right', 'down', 'left']\n",
    "    next_direction = np.random.choice(direction, p=pi[s,:])\n",
    "    \n",
    "    if next_direction == 'up': # 上の時は状態の数値が3小さくなる\n",
    "        s_next = s - 3 \n",
    "    elif next_direction == 'right': # 右の時は状態の数値が1大きくなる\n",
    "        s_next = s + 1\n",
    "    elif next_direction == 'down': # 下の時は状態の数値が3大きくなる\n",
    "        s_next = s + 3\n",
    "    elif next_direction == 'left': # 左の時は状態の数値が1小さくなる\n",
    "        s_next = s - 1\n",
    "        \n",
    "    return s_next"
   ]
  }
 ],
 "metadata": {
  "kernelspec": {
   "display_name": "Python 3",
   "language": "python",
   "name": "python3"
  },
  "language_info": {
   "codemirror_mode": {
    "name": "ipython",
    "version": 3
   },
   "file_extension": ".py",
   "mimetype": "text/x-python",
   "name": "python",
   "nbconvert_exporter": "python",
   "pygments_lexer": "ipython3",
   "version": "3.6.8"
  }
 },
 "nbformat": 4,
 "nbformat_minor": 2
}
